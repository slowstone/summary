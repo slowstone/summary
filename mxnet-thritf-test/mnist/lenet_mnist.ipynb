{
 "cells": [
  {
   "cell_type": "markdown",
   "metadata": {
    "heading_collapsed": true
   },
   "source": [
    "# lenet_mnist"
   ]
  },
  {
   "cell_type": "code",
   "execution_count": 1,
   "metadata": {
    "hidden": true
   },
   "outputs": [],
   "source": [
    "import mxnet as mx\n",
    "import os\n",
    "import struct\n",
    "import numpy as np\n",
    "import logging\n",
    "import random\n",
    "logging.getLogger().setLevel(logging.DEBUG)"
   ]
  },
  {
   "cell_type": "code",
   "execution_count": 2,
   "metadata": {
    "hidden": true
   },
   "outputs": [],
   "source": [
    "def load_mnist(path, kind='train'):\n",
    "    \"\"\"Load MNIST data from `path`\"\"\"\n",
    "    labels_path = os.path.join(path,'{}-labels-idx1-ubyte'.format(kind))\n",
    "    images_path = os.path.join(path,'{}-images-idx3-ubyte'.format(kind))\n",
    "    with open(labels_path, 'rb') as lbpath:\n",
    "        magic, n = struct.unpack('>II',\n",
    "                                 lbpath.read(8))\n",
    "        labels = np.fromfile(lbpath,\n",
    "                             dtype=np.uint8).reshape(n)\n",
    "\n",
    "    with open(images_path, 'rb') as imgpath:\n",
    "        magic, num, rows, cols = struct.unpack('>IIII',\n",
    "                                               imgpath.read(16))\n",
    "        images = np.fromfile(imgpath,\n",
    "                             dtype=np.uint8).reshape((num,1,rows,cols))\n",
    "    print(kind)\n",
    "    print(\"label num:\",n)\n",
    "    print(\"image num:\",num)\n",
    "    print(\"image rows:\",rows)\n",
    "    print(\"image cols:\",cols)\n",
    "    images = images/255\n",
    "    return images, labels"
   ]
  },
  {
   "cell_type": "code",
   "execution_count": 3,
   "metadata": {
    "hidden": true
   },
   "outputs": [],
   "source": [
    "'''\n",
    "conv(5,5,6) relu avg_pool\n",
    "conv(5,5,16) relu avg_pool\n",
    "fc 120 relu\n",
    "fc 84 relu\n",
    " softmax output\n",
    "'''\n",
    "def lenet5_v1(data):\n",
    "    C1 = mx.sym.Convolution(data=data,kernel=(5,5),num_filter=6,name='C1')\n",
    "    C1 = mx.sym.Activation(data=C1,act_type='relu',name='C1_relu')\n",
    "    S2 = mx.sym.Pooling(data=C1,kernel=(2,2),pool_type='avg',stride=(2,2),name='S2')\n",
    "    C3 = mx.sym.Convolution(data=S2,kernel=(5,5),num_filter=16,name='C3')\n",
    "    C3 = mx.sym.Activation(data=C3,act_type='relu',name='C3_relu')\n",
    "    S4 = mx.sym.Pooling(data=C3,kernel=(2,2),pool_type='avg',stride=(2,2),name='S4')\n",
    "    F5 = mx.sym.Convolution(data=S4,kernel=(5,5),num_filter=120,name='F5')\n",
    "    F5 = mx.sym.Activation(data=F5,act_type='relu',name='F5_relu')\n",
    "    F6 = mx.sym.FullyConnected(data=F5,num_hidden=84,name='F6')\n",
    "    F6 = mx.sym.Activation(data=F6,act_type='relu',name='F6_relu')\n",
    "    output = mx.sym.FullyConnected(data=F6,num_hidden=10,name=\"output\")\n",
    "    output = mx.sym.SoftmaxOutput(data=F6,name='softmax')\n",
    "    return output\n",
    "\n",
    "'''\n",
    "conv(5,5,6) relu avg_pool\n",
    "conv(5,5,16) relu avg_pool\n",
    "conv(5,5,120) relu\n",
    "fc 84 relu\n",
    "fc 10 softmax\n",
    "'''\n",
    "def lenet5_v2(data):\n",
    "    C1 = mx.sym.Convolution(data=data,kernel=(5,5),num_filter=6,name='C1')\n",
    "    C1 = mx.sym.Activation(data=C1,act_type='relu',name='C1_relu')\n",
    "    S2 = mx.sym.Pooling(data=C1,kernel=(2,2),pool_type='avg',stride=(2,2),name='S2')\n",
    "    C3 = mx.sym.Convolution(data=S2,kernel=(5,5),num_filter=16,name='C3')\n",
    "    C3 = mx.sym.Activation(data=C3,act_type='relu',name='C3_relu')\n",
    "    S4 = mx.sym.Pooling(data=C3,kernel=(2,2),pool_type='avg',stride=(2,2),name='S4')\n",
    "    C5 = mx.sym.Convolution(data=S4,kernel=(5,5),num_filter=120,name='C5')\n",
    "    C5 = mx.sym.Activation(data=C5,act_type='relu',name='C5_relu')\n",
    "    F6 = mx.sym.FullyConnected(data=C5,num_hidden=84,name='F6')\n",
    "    F6 = mx.sym.Activation(data=F6,act_type='relu',name='F6_relu')\n",
    "    output = mx.sym.FullyConnected(data=F6,num_hidden=10,name='output')\n",
    "    output = mx.sym.SoftmaxOutput(data=output,name=\"softmax\")\n",
    "    return output\n",
    "\n",
    "'''\n",
    "conv(5,5,32) relu avg_pool\n",
    "conv(5,5,64) relu avg_pool\n",
    "fc 1024 relu\n",
    "fc 10 softmax\n",
    "'''\n",
    "def lenet5_v3(data):\n",
    "    C1 = mx.sym.Convolution(data=data,kernel=(5,5),num_filter=32,name='C1')\n",
    "    C1 = mx.sym.Activation(data=C1,act_type='relu',name='C1_relu')\n",
    "    S2 = mx.sym.Pooling(data=C1,kernel=(2,2),pool_type='avg',stride=(2,2),name='S2')\n",
    "    C3 = mx.sym.Convolution(data=S2,kernel=(5,5),num_filter=64,name='C3')\n",
    "    C3 = mx.sym.Activation(data=C3,act_type='relu',name='C3_relu')\n",
    "    S4 = mx.sym.Pooling(data=C3,kernel=(2,2),pool_type='avg',stride=(2,2),name='S4')\n",
    "    F5 = mx.sym.FullyConnected(data=S4,num_hidden=1024,name='F5')\n",
    "    F5 = mx.sym.Activation(data=F5,act_type='relu',name='F5_relu')\n",
    "    output = mx.sym.FullyConnected(data=F5,num_hidden=10,name='output')\n",
    "    output = mx.sym.SoftmaxOutput(data=output,name='softmax')\n",
    "    return output"
   ]
  },
  {
   "cell_type": "code",
   "execution_count": 4,
   "metadata": {
    "hidden": true
   },
   "outputs": [],
   "source": [
    "BACH_SIZE = 1000\n",
    "LEARNING_RATE = 0.1\n",
    "MOMENTUM = 0.9"
   ]
  },
  {
   "cell_type": "code",
   "execution_count": 5,
   "metadata": {
    "hidden": true
   },
   "outputs": [
    {
     "name": "stdout",
     "output_type": "stream",
     "text": [
      "train\n",
      "label num: 60000\n",
      "image num: 60000\n",
      "image rows: 28\n",
      "image cols: 28\n",
      "t10k\n",
      "label num: 10000\n",
      "image num: 10000\n",
      "image rows: 28\n",
      "image cols: 28\n"
     ]
    }
   ],
   "source": [
    "train_im,train_la = load_mnist('../dataset/mnist/','train')\n",
    "val_im,val_la = load_mnist('../dataset/mnist/','t10k')"
   ]
  },
  {
   "cell_type": "code",
   "execution_count": 6,
   "metadata": {
    "hidden": true
   },
   "outputs": [],
   "source": [
    "im_data = mx.sym.Variable(name='im_data')\n",
    "net = lenet5_v3(im_data)"
   ]
  },
  {
   "cell_type": "code",
   "execution_count": 7,
   "metadata": {
    "hidden": true
   },
   "outputs": [],
   "source": [
    "mod = mx.mod.Module(symbol=net,\n",
    "                    context=mx.cpu(),\n",
    "                    data_names=['im_data'],\n",
    "                    label_names=['softmax_label'])"
   ]
  },
  {
   "cell_type": "code",
   "execution_count": 8,
   "metadata": {
    "hidden": true
   },
   "outputs": [],
   "source": [
    "train_iter = mx.io.NDArrayIter(data=train_im,\n",
    "                               label=train_la,\n",
    "                               batch_size=BACH_SIZE,\n",
    "                               data_name='im_data',\n",
    "                               label_name='softmax_label')\n",
    "val_iter = mx.io.NDArrayIter(data=val_im,\n",
    "                             label=val_la,\n",
    "                             batch_size=BACH_SIZE,\n",
    "                            data_name='im_data',\n",
    "                               label_name='softmax_label')"
   ]
  },
  {
   "cell_type": "code",
   "execution_count": 9,
   "metadata": {
    "hidden": true
   },
   "outputs": [],
   "source": [
    "lr_factor = 0.1\n",
    "steps = 300 # in iterations\n",
    "lr_scheduler = mx.lr_scheduler.FactorScheduler(step=steps, factor=lr_factor)\n",
    "optimizer_params = {\n",
    "                    'learning_rate': LEARNING_RATE,\n",
    "                    'wd': 0.0005,\n",
    "                    'lr_scheduler': lr_scheduler,\n",
    "                    'momentum': MOMENTUM}\n",
    "initializer = mx.init.Xavier(\n",
    "   rnd_type='gaussian', factor_type='in', magnitude=2)"
   ]
  },
  {
   "cell_type": "code",
   "execution_count": 10,
   "metadata": {
    "hidden": true
   },
   "outputs": [],
   "source": [
    "speedometer = mx.callback.Speedometer(BACH_SIZE, 10)\n",
    "progress_bar = mx.callback.ProgressBar(total=2)\n",
    "logmc = mx.callback.LogValidationMetricsCallback()\n",
    "train_log = mx.callback.log_train_metric(10)"
   ]
  },
  {
   "cell_type": "code",
   "execution_count": 11,
   "metadata": {
    "hidden": true
   },
   "outputs": [
    {
     "name": "stderr",
     "output_type": "stream",
     "text": [
      "INFO:root:Epoch[0] Train-accuracy=0.849950\n",
      "INFO:root:Epoch[0] Time cost=67.776\n",
      "INFO:root:Epoch[0] Validation-accuracy=0.968900\n",
      "INFO:root:Epoch[1] Train-accuracy=0.973883\n",
      "INFO:root:Epoch[1] Time cost=69.866\n",
      "INFO:root:Epoch[1] Validation-accuracy=0.982200\n",
      "INFO:root:Epoch[2] Train-accuracy=0.982267\n",
      "INFO:root:Epoch[2] Time cost=71.377\n",
      "INFO:root:Epoch[2] Validation-accuracy=0.984500\n",
      "INFO:root:Epoch[3] Train-accuracy=0.985950\n",
      "INFO:root:Epoch[3] Time cost=69.820\n",
      "INFO:root:Epoch[3] Validation-accuracy=0.985000\n",
      "INFO:root:Epoch[4] Train-accuracy=0.988133\n",
      "INFO:root:Epoch[4] Time cost=70.544\n",
      "INFO:root:Epoch[4] Validation-accuracy=0.985100\n",
      "INFO:root:Update[301]: Change learning rate to 1.00000e-02\n",
      "INFO:root:Epoch[5] Train-accuracy=0.989050\n",
      "INFO:root:Epoch[5] Time cost=70.009\n",
      "INFO:root:Epoch[5] Validation-accuracy=0.988400\n",
      "INFO:root:Epoch[6] Train-accuracy=0.991550\n",
      "INFO:root:Epoch[6] Time cost=67.761\n",
      "INFO:root:Epoch[6] Validation-accuracy=0.989000\n",
      "INFO:root:Epoch[7] Train-accuracy=0.991767\n",
      "INFO:root:Epoch[7] Time cost=67.715\n",
      "INFO:root:Epoch[7] Validation-accuracy=0.989200\n",
      "INFO:root:Epoch[8] Train-accuracy=0.992000\n",
      "INFO:root:Epoch[8] Time cost=69.702\n",
      "INFO:root:Epoch[8] Validation-accuracy=0.989600\n",
      "INFO:root:Epoch[9] Train-accuracy=0.992000\n",
      "INFO:root:Epoch[9] Time cost=68.163\n",
      "INFO:root:Epoch[9] Validation-accuracy=0.989700\n",
      "INFO:root:Update[601]: Change learning rate to 1.00000e-03\n",
      "INFO:root:Epoch[10] Train-accuracy=0.992433\n",
      "INFO:root:Epoch[10] Time cost=71.846\n",
      "INFO:root:Epoch[10] Validation-accuracy=0.989200\n",
      "INFO:root:Epoch[11] Train-accuracy=0.992517\n",
      "INFO:root:Epoch[11] Time cost=69.569\n",
      "INFO:root:Epoch[11] Validation-accuracy=0.989700\n",
      "INFO:root:Epoch[12] Train-accuracy=0.992533\n",
      "INFO:root:Epoch[12] Time cost=70.247\n",
      "INFO:root:Epoch[12] Validation-accuracy=0.989800\n",
      "INFO:root:Epoch[13] Train-accuracy=0.992600\n",
      "INFO:root:Epoch[13] Time cost=68.909\n",
      "INFO:root:Epoch[13] Validation-accuracy=0.989800\n",
      "INFO:root:Epoch[14] Train-accuracy=0.992650\n",
      "INFO:root:Epoch[14] Time cost=69.502\n",
      "INFO:root:Epoch[14] Validation-accuracy=0.989800\n"
     ]
    }
   ],
   "source": [
    "mod.fit(train_iter,\n",
    "        eval_data=val_iter,\n",
    "        optimizer='sgd',\n",
    "        optimizer_params=optimizer_params,\n",
    "#         batch_end_callback=[speedometer],\n",
    "        initializer = initializer,\n",
    "        eval_metric='acc',\n",
    "        num_epoch=15)"
   ]
  },
  {
   "cell_type": "markdown",
   "metadata": {
    "heading_collapsed": true
   },
   "source": [
    "# mxnet test"
   ]
  },
  {
   "cell_type": "code",
   "execution_count": null,
   "metadata": {
    "hidden": true
   },
   "outputs": [],
   "source": [
    "im_data = mx.sym.Variable(\"im_data\")\n",
    "net_version = \"lenet5_v2\"\n",
    "network = eval(net_version)(im_data)\n",
    "mx.viz.plot_network(network,shape={\"im_data\":(128,1,28,28)},title=net_version)"
   ]
  },
  {
   "cell_type": "markdown",
   "metadata": {},
   "source": [
    "# eval"
   ]
  },
  {
   "cell_type": "code",
   "execution_count": 1,
   "metadata": {},
   "outputs": [],
   "source": [
    "import mxnet as mx\n",
    "import os\n",
    "import struct\n",
    "import json\n",
    "import numpy as np\n",
    "import logging\n",
    "import random\n",
    "logging.getLogger().setLevel(logging.DEBUG)"
   ]
  },
  {
   "cell_type": "code",
   "execution_count": 2,
   "metadata": {},
   "outputs": [],
   "source": [
    "def load_mnist(path, kind='train'):\n",
    "    \"\"\"Load MNIST data from `path`\"\"\"\n",
    "    labels_path = os.path.join(path,'{}-labels-idx1-ubyte'.format(kind))\n",
    "    images_path = os.path.join(path,'{}-images-idx3-ubyte'.format(kind))\n",
    "    with open(labels_path, 'rb') as lbpath:\n",
    "        magic, n = struct.unpack('>II',\n",
    "                                 lbpath.read(8))\n",
    "        labels = np.fromfile(lbpath,\n",
    "                             dtype=np.uint8).reshape(n)\n",
    "\n",
    "    with open(images_path, 'rb') as imgpath:\n",
    "        magic, num, rows, cols = struct.unpack('>IIII',\n",
    "                                               imgpath.read(16))\n",
    "        images = np.fromfile(imgpath,\n",
    "                             dtype=np.uint8).reshape((num,1,rows,cols))\n",
    "    print(kind)\n",
    "    print(\"label num:\",n)\n",
    "    print(\"image num:\",num)\n",
    "    print(\"image rows:\",rows)\n",
    "    print(\"image cols:\",cols)\n",
    "    images = images/255\n",
    "    return images, labels"
   ]
  },
  {
   "cell_type": "code",
   "execution_count": 3,
   "metadata": {},
   "outputs": [],
   "source": [
    "BACH_SIZE = 1000"
   ]
  },
  {
   "cell_type": "code",
   "execution_count": 4,
   "metadata": {},
   "outputs": [
    {
     "name": "stdout",
     "output_type": "stream",
     "text": [
      "t10k\n",
      "label num: 10000\n",
      "image num: 10000\n",
      "image rows: 28\n",
      "image cols: 28\n"
     ]
    }
   ],
   "source": [
    "val_im,val_la = load_mnist('/mnt/cephfs/lab/xuyan.bupt/dataset/mnist/','t10k')"
   ]
  },
  {
   "cell_type": "code",
   "execution_count": 5,
   "metadata": {},
   "outputs": [],
   "source": [
    "val_iter = mx.io.NDArrayIter(data=val_im,\n",
    "                             label=val_la,\n",
    "                             batch_size=BACH_SIZE,\n",
    "                            data_name='im_data',\n",
    "                               label_name='softmax_label')"
   ]
  },
  {
   "cell_type": "code",
   "execution_count": 6,
   "metadata": {},
   "outputs": [],
   "source": [
    "dev = [ mx.gpu(i) for i in [3]]"
   ]
  },
  {
   "cell_type": "code",
   "execution_count": 7,
   "metadata": {},
   "outputs": [],
   "source": [
    "logs_dir = './logs/'\n",
    "logs_names = os.listdir(logs_dir)"
   ]
  },
  {
   "cell_type": "code",
   "execution_count": 12,
   "metadata": {},
   "outputs": [
    {
     "name": "stdout",
     "output_type": "stream",
     "text": [
      "20181204T1011 ===>\n",
      "{\"1\": [[\"accuracy\", 0.9745]], \"2\": [[\"accuracy\", 0.9825]], \"3\": [[\"accuracy\", 0.9893]], \"4\": [[\"accuracy\", 0.9892]], \"5\": [[\"accuracy\", 0.9898]], \"6\": [[\"accuracy\", 0.9897]], \"7\": [[\"accuracy\", 0.99]], \"8\": [[\"accuracy\", 0.9901]]}\n",
      "20181204T0951 ===>\n",
      "{\"1\": [[\"accuracy\", 0.9689]], \"2\": [[\"accuracy\", 0.9822]], \"3\": [[\"accuracy\", 0.9845]], \"4\": [[\"accuracy\", 0.985]], \"5\": [[\"accuracy\", 0.9851]], \"6\": [[\"accuracy\", 0.9884]], \"7\": [[\"accuracy\", 0.989]], \"8\": [[\"accuracy\", 0.9892]]}\n"
     ]
    }
   ],
   "source": [
    "for name in logs_names:\n",
    "    model_path = os.path.join(logs_dir,name,'lenet5-mnist')\n",
    "    output_file = os.path.join(logs_dir,name,'score.json')\n",
    "    json_info = {}\n",
    "    for i in range(8):\n",
    "        sym,arg_params,aux_params = mx.model.load_checkpoint(model_path,i+1)\n",
    "        arg_name = sym.list_arguments()\n",
    "        mod = mx.mod.Module(symbol=sym, \n",
    "                        context=dev,\n",
    "                        data_names = [arg_name[0]],\n",
    "                        label_names = [arg_name[-1]]\n",
    "                       )\n",
    "        mod.bind(for_training=False,\n",
    "                 data_shapes=val_iter.provide_data,\n",
    "                 label_shapes=val_iter.provide_label)\n",
    "        mod.set_params(arg_params,aux_params)\n",
    "        metric = mx.metric.Accuracy()\n",
    "        score = mod.score(val_iter, metric)\n",
    "        json_info[i+1] = score\n",
    "    print(name,\"===>\")\n",
    "    print(json.dumps(json_info))\n",
    "#     f = open(output_file,'w')\n",
    "#     f.write(json.dumps(json_info,indent=2))\n",
    "#     f.close()"
   ]
  },
  {
   "cell_type": "code",
   "execution_count": null,
   "metadata": {},
   "outputs": [],
   "source": []
  }
 ],
 "metadata": {
  "kernelspec": {
   "display_name": "mxnet",
   "language": "python",
   "name": "mxnet"
  },
  "language_info": {
   "codemirror_mode": {
    "name": "ipython",
    "version": 3
   },
   "file_extension": ".py",
   "mimetype": "text/x-python",
   "name": "python",
   "nbconvert_exporter": "python",
   "pygments_lexer": "ipython3",
   "version": "3.6.2"
  }
 },
 "nbformat": 4,
 "nbformat_minor": 2
}
