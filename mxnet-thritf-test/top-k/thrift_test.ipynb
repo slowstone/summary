{
 "cells": [
  {
   "cell_type": "code",
   "execution_count": 1,
   "metadata": {},
   "outputs": [],
   "source": [
    "import cv2\n",
    "import numpy as np\n",
    "import pickle\n",
    "import os"
   ]
  },
  {
   "cell_type": "code",
   "execution_count": 2,
   "metadata": {},
   "outputs": [],
   "source": [
    "#均值哈希算法\n",
    "def aHash(img,size=(512,512)):\n",
    "    #缩放为8*8\n",
    "    img=cv2.resize(img,size,interpolation=cv2.INTER_CUBIC)\n",
    "    #转换为灰度图\n",
    "    gray=cv2.cvtColor(img,cv2.COLOR_BGR2GRAY)\n",
    "    #s为像素和初值为0，hash_str为hash值初值为''\n",
    "    s=0\n",
    "    hash_str=''\n",
    "    #遍历累加求像素和\n",
    "    for i in range(size[0]):\n",
    "        for j in range(size[1]):\n",
    "            s=s+gray[i,j]\n",
    "    #求平均灰度\n",
    "    avg=s/(size[0]*size[1])\n",
    "    #灰度大于平均值为1相反为0生成图片的hash值\n",
    "    for i in range(size[0]):\n",
    "        for j in range(size[1]):\n",
    "            if  gray[i,j]>avg:\n",
    "                hash_str=hash_str+'1'\n",
    "            else:\n",
    "                hash_str=hash_str+'0'            \n",
    "    return hash_str"
   ]
  },
  {
   "cell_type": "code",
   "execution_count": 3,
   "metadata": {},
   "outputs": [],
   "source": [
    "def hammingDistance(s1, s2):\n",
    "    \"\"\"Return the Hamming distance between equal-length sequences\"\"\"\n",
    "    if len(s1) != len(s2):\n",
    "        raise ValueError(\"Undefined for sequences of unequal length\")\n",
    "    return sum(el1 != el2 for el1, el2 in zip(s1, s2))"
   ]
  },
  {
   "cell_type": "code",
   "execution_count": 4,
   "metadata": {},
   "outputs": [],
   "source": [
    "data_dir = './dataset'\n",
    "names = os.listdir(data_dir)"
   ]
  },
  {
   "cell_type": "code",
   "execution_count": 5,
   "metadata": {},
   "outputs": [],
   "source": [
    "rec_im = cv2.imread('./test.jpg')\n",
    "rec_hash = aHash(rec_im)"
   ]
  },
  {
   "cell_type": "code",
   "execution_count": 7,
   "metadata": {},
   "outputs": [],
   "source": [
    "res = []\n",
    "for name in names:\n",
    "    im_path = os.path.join(data_dir,name)\n",
    "    cur_im = cv2.imread(im_path)\n",
    "    cur_hash = aHash(cur_im)\n",
    "    score = hammingDistance(rec_hash,cur_hash)\n",
    "    res.append((name,score))"
   ]
  },
  {
   "cell_type": "code",
   "execution_count": 8,
   "metadata": {},
   "outputs": [
    {
     "data": {
      "text/plain": [
       "[('bird05.png', 36974),\n",
       " ('bird01.png', 79978),\n",
       " ('car01.png', 115458),\n",
       " ('bird02.png', 41085),\n",
       " ('bird03.png', 103080),\n",
       " ('car05.jpg', 77676),\n",
       " ('bird04.jpg', 59062),\n",
       " ('car03.jpg', 125326),\n",
       " ('car04.jpg', 77251),\n",
       " ('car02.png', 63593)]"
      ]
     },
     "execution_count": 8,
     "metadata": {},
     "output_type": "execute_result"
    }
   ],
   "source": [
    "res"
   ]
  },
  {
   "cell_type": "code",
   "execution_count": 10,
   "metadata": {},
   "outputs": [],
   "source": [
    "res.sort(key=lambda x:x[1])"
   ]
  },
  {
   "cell_type": "code",
   "execution_count": 11,
   "metadata": {},
   "outputs": [
    {
     "data": {
      "text/plain": [
       "[('bird05.png', 36974),\n",
       " ('bird02.png', 41085),\n",
       " ('bird04.jpg', 59062),\n",
       " ('car02.png', 63593),\n",
       " ('car04.jpg', 77251),\n",
       " ('car05.jpg', 77676),\n",
       " ('bird01.png', 79978),\n",
       " ('bird03.png', 103080),\n",
       " ('car01.png', 115458),\n",
       " ('car03.jpg', 125326)]"
      ]
     },
     "execution_count": 11,
     "metadata": {},
     "output_type": "execute_result"
    }
   ],
   "source": [
    "res"
   ]
  },
  {
   "cell_type": "code",
   "execution_count": 14,
   "metadata": {},
   "outputs": [],
   "source": [
    "send_names = [ t[0] for t in res[:3]]"
   ]
  },
  {
   "cell_type": "code",
   "execution_count": 15,
   "metadata": {},
   "outputs": [
    {
     "data": {
      "text/plain": [
       "['bird05.png', 'bird02.png', 'bird04.jpg']"
      ]
     },
     "execution_count": 15,
     "metadata": {},
     "output_type": "execute_result"
    }
   ],
   "source": [
    "send_names"
   ]
  },
  {
   "cell_type": "code",
   "execution_count": null,
   "metadata": {},
   "outputs": [],
   "source": []
  }
 ],
 "metadata": {
  "kernelspec": {
   "display_name": "mxnet",
   "language": "python",
   "name": "mxnet"
  },
  "language_info": {
   "codemirror_mode": {
    "name": "ipython",
    "version": 3
   },
   "file_extension": ".py",
   "mimetype": "text/x-python",
   "name": "python",
   "nbconvert_exporter": "python",
   "pygments_lexer": "ipython3",
   "version": "3.6.2"
  }
 },
 "nbformat": 4,
 "nbformat_minor": 2
}
