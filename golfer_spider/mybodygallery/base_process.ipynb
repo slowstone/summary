{
 "cells": [
  {
   "cell_type": "markdown",
   "metadata": {},
   "source": [
    "# no list in json"
   ]
  },
  {
   "cell_type": "code",
   "execution_count": 1,
   "metadata": {},
   "outputs": [],
   "source": [
    "import json"
   ]
  },
  {
   "cell_type": "code",
   "execution_count": 2,
   "metadata": {},
   "outputs": [],
   "source": [
    "f = open('./output_man_ori.json','r')\n",
    "info = json.load(f)"
   ]
  },
  {
   "cell_type": "code",
   "execution_count": 3,
   "metadata": {},
   "outputs": [
    {
     "data": {
      "text/plain": [
       "372"
      ]
     },
     "execution_count": 3,
     "metadata": {},
     "output_type": "execute_result"
    }
   ],
   "source": [
    "len(info)"
   ]
  },
  {
   "cell_type": "code",
   "execution_count": 11,
   "metadata": {},
   "outputs": [],
   "source": [
    "for i in range(len(info)):\n",
    "    info[i]['age'] = info[i]['age'][0]\n",
    "    info[i]['height'] = info[i]['height'][0]\n",
    "    info[i]['weight'] = info[i]['weight'][0]\n",
    "    info[i]['pansize'] = info[i]['pansize'][0]\n",
    "    info[i]['shirtsize'] = info[i]['shirtsize'][0]"
   ]
  },
  {
   "cell_type": "code",
   "execution_count": 12,
   "metadata": {},
   "outputs": [
    {
     "data": {
      "text/plain": [
       "3559255"
      ]
     },
     "execution_count": 12,
     "metadata": {},
     "output_type": "execute_result"
    }
   ],
   "source": [
    "f = open('./output_women_del_list.json','w')\n",
    "f.write(json.dumps(info,indent=2))"
   ]
  },
  {
   "cell_type": "markdown",
   "metadata": {},
   "source": [
    "# merge two json"
   ]
  },
  {
   "cell_type": "code",
   "execution_count": null,
   "metadata": {},
   "outputs": [],
   "source": [
    "import json"
   ]
  },
  {
   "cell_type": "code",
   "execution_count": 19,
   "metadata": {},
   "outputs": [],
   "source": [
    "f = open('./output_women_del_list.json','r')\n",
    "info = json.load(f)"
   ]
  },
  {
   "cell_type": "code",
   "execution_count": 20,
   "metadata": {},
   "outputs": [],
   "source": [
    "f = open('./output_women_ori.json','r')\n",
    "info2 = json.load(f)"
   ]
  },
  {
   "cell_type": "code",
   "execution_count": 21,
   "metadata": {},
   "outputs": [
    {
     "data": {
      "text/plain": [
       "15699"
      ]
     },
     "execution_count": 21,
     "metadata": {},
     "output_type": "execute_result"
    }
   ],
   "source": [
    "len(info)"
   ]
  },
  {
   "cell_type": "code",
   "execution_count": 22,
   "metadata": {},
   "outputs": [
    {
     "data": {
      "text/plain": [
       "438"
      ]
     },
     "execution_count": 22,
     "metadata": {},
     "output_type": "execute_result"
    }
   ],
   "source": [
    "len(info2)"
   ]
  },
  {
   "cell_type": "code",
   "execution_count": 23,
   "metadata": {},
   "outputs": [],
   "source": [
    "new_info = []\n",
    "new_ids = []\n",
    "for i in info:\n",
    "    if i['im_id'] not in new_ids:\n",
    "        new_ids.append(i['im_id'])\n",
    "        new_info.append(i)\n",
    "for i in info2:\n",
    "    if i['im_id'] not in new_ids:\n",
    "        new_ids.append(i['im_id'])\n",
    "        new_info.append(i)"
   ]
  },
  {
   "cell_type": "code",
   "execution_count": 24,
   "metadata": {},
   "outputs": [
    {
     "data": {
      "text/plain": [
       "15707"
      ]
     },
     "execution_count": 24,
     "metadata": {},
     "output_type": "execute_result"
    }
   ],
   "source": [
    "len(new_info)"
   ]
  },
  {
   "cell_type": "code",
   "execution_count": 25,
   "metadata": {},
   "outputs": [
    {
     "data": {
      "text/plain": [
       "3561040"
      ]
     },
     "execution_count": 25,
     "metadata": {},
     "output_type": "execute_result"
    }
   ],
   "source": [
    "f = open('./output_women_new.json','w')\n",
    "f.write(json.dumps(new_info,indent=2))"
   ]
  },
  {
   "cell_type": "markdown",
   "metadata": {},
   "source": [
    "# ft to cm & lbs to kg"
   ]
  },
  {
   "cell_type": "code",
   "execution_count": 28,
   "metadata": {},
   "outputs": [],
   "source": [
    "import json\n",
    "f = open('./output_man_ori.json','r')\n",
    "info = json.load(f)"
   ]
  },
  {
   "cell_type": "code",
   "execution_count": 29,
   "metadata": {},
   "outputs": [],
   "source": [
    "ft_to_in = 12  #英尺 to 英寸\n",
    "in_to_cm = 2.54 #英寸 to cm\n",
    "lbs_to_kg = 0.4532 #英镑 to kg\n",
    "for i in range(len(info)):\n",
    "    height = info[i]['height']\n",
    "    weight = info[i]['weight']\n",
    "    info[i]['height'] = str(round((int(height[0]) * 12 + int(height[2])) * 2.54,2))\n",
    "    info[i]['weight'] = str(round((int(weight) * lbs_to_kg),2))"
   ]
  },
  {
   "cell_type": "code",
   "execution_count": 30,
   "metadata": {},
   "outputs": [
    {
     "data": {
      "text/plain": [
       "79116"
      ]
     },
     "execution_count": 30,
     "metadata": {},
     "output_type": "execute_result"
    }
   ],
   "source": [
    "f = open('./output_man_cm_kg.json','w')\n",
    "f.write(json.dumps(info,indent=2))"
   ]
  },
  {
   "cell_type": "markdown",
   "metadata": {},
   "source": [
    "# ft to in"
   ]
  },
  {
   "cell_type": "code",
   "execution_count": 38,
   "metadata": {},
   "outputs": [],
   "source": [
    "import json\n",
    "f = open('./output_women_ori.json','r')\n",
    "info = json.load(f)"
   ]
  },
  {
   "cell_type": "code",
   "execution_count": 39,
   "metadata": {},
   "outputs": [],
   "source": [
    "ft_to_in = 12  #英尺 to 英寸\n",
    "in_to_cm = 2.54 #英寸 to cm\n",
    "lbs_to_kg = 0.4532 #英镑 to kg\n",
    "for i in range(len(info)):\n",
    "    height = info[i]['height']\n",
    "    info[i]['height'] = str((int(height[0]) * 12 + int(height[2])))"
   ]
  },
  {
   "cell_type": "code",
   "execution_count": 40,
   "metadata": {},
   "outputs": [
    {
     "data": {
      "text/plain": [
       "3512616"
      ]
     },
     "execution_count": 40,
     "metadata": {},
     "output_type": "execute_result"
    }
   ],
   "source": [
    "f = open('./output_women_in_lbs.json','w')\n",
    "f.write(json.dumps(info,indent=2))"
   ]
  },
  {
   "cell_type": "markdown",
   "metadata": {},
   "source": [
    "# Add BMI use cm & kg"
   ]
  },
  {
   "cell_type": "code",
   "execution_count": 72,
   "metadata": {},
   "outputs": [],
   "source": [
    "import json\n",
    "f = open('./output_women_cm_kg.json','r')\n",
    "cm_kg_info = json.load(f)"
   ]
  },
  {
   "cell_type": "code",
   "execution_count": 73,
   "metadata": {},
   "outputs": [],
   "source": [
    "new_cm_kg_info = []\n",
    "for i in cm_kg_info:\n",
    "    height_cm = float(i['height'])\n",
    "    weight = float(i['weight'])\n",
    "    height_m = round(height_cm/100,4)\n",
    "    #print(height_cm,height_m,weight)\n",
    "    bmi = str(round((weight/((height_m)**2)),2))\n",
    "    i['bmi'] = bmi\n",
    "    new_cm_kg_info.append(i)"
   ]
  },
  {
   "cell_type": "code",
   "execution_count": 74,
   "metadata": {},
   "outputs": [
    {
     "data": {
      "text/plain": [
       "{'im_id': '23000-23455-1.jpg',\n",
       " 'im_url': 'https://www.mybodygallery.com/uploadedPhotos/23000/23455-1.jpg',\n",
       " 'age': 'N/A',\n",
       " 'height': '165.1',\n",
       " 'weight': '81.58',\n",
       " 'pansize': '14',\n",
       " 'shirtsize': 'XL',\n",
       " 'bmi': '29.93'}"
      ]
     },
     "execution_count": 74,
     "metadata": {},
     "output_type": "execute_result"
    }
   ],
   "source": [
    "new_cm_kg_info[3]"
   ]
  },
  {
   "cell_type": "code",
   "execution_count": 75,
   "metadata": {},
   "outputs": [
    {
     "data": {
      "text/plain": [
       "3918474"
      ]
     },
     "execution_count": 75,
     "metadata": {},
     "output_type": "execute_result"
    }
   ],
   "source": [
    "f = open('./output_women_cm_kg_bmi.json','w')\n",
    "f.write(json.dumps(new_cm_kg_info,indent=2))"
   ]
  },
  {
   "cell_type": "markdown",
   "metadata": {},
   "source": [
    "# Add BMI use in & lbs"
   ]
  },
  {
   "cell_type": "code",
   "execution_count": 76,
   "metadata": {},
   "outputs": [],
   "source": [
    "import json\n",
    "f = open('./output_women_in_lbs.json','r')\n",
    "in_lbs_info = json.load(f)"
   ]
  },
  {
   "cell_type": "code",
   "execution_count": 77,
   "metadata": {},
   "outputs": [],
   "source": [
    "new_in_lbs_info = []\n",
    "for i in in_lbs_info:\n",
    "    height = float(i['height'])\n",
    "    weight = float(i['weight'])\n",
    "    #print(height_cm,height_m,weight)\n",
    "    bmi = str(round((weight/((height)**2)*703),2))\n",
    "    i['bmi'] = bmi\n",
    "    new_in_lbs_info.append(i)"
   ]
  },
  {
   "cell_type": "code",
   "execution_count": 78,
   "metadata": {},
   "outputs": [
    {
     "data": {
      "text/plain": [
       "{'im_id': '23000-23455-1.jpg',\n",
       " 'im_url': 'https://www.mybodygallery.com/uploadedPhotos/23000/23455-1.jpg',\n",
       " 'age': 'N/A',\n",
       " 'height': '65',\n",
       " 'weight': '180',\n",
       " 'pansize': '14',\n",
       " 'shirtsize': 'XL',\n",
       " 'bmi': '29.95'}"
      ]
     },
     "execution_count": 78,
     "metadata": {},
     "output_type": "execute_result"
    }
   ],
   "source": [
    "new_in_lbs_info[3]"
   ]
  },
  {
   "cell_type": "code",
   "execution_count": 79,
   "metadata": {},
   "outputs": [
    {
     "data": {
      "text/plain": [
       "3825799"
      ]
     },
     "execution_count": 79,
     "metadata": {},
     "output_type": "execute_result"
    }
   ],
   "source": [
    "f = open('./output_women_in_lbs_bmi.json','w')\n",
    "f.write(json.dumps(new_in_lbs_info,indent=2))"
   ]
  },
  {
   "cell_type": "markdown",
   "metadata": {},
   "source": [
    "# classify by bmi"
   ]
  },
  {
   "cell_type": "markdown",
   "metadata": {},
   "source": [
    "0 偏瘦\t<= 18.4  \n",
    "1 正常\t18.5 ~ 23.9   \n",
    "2 过重\t24.0 ~ 27.9  \n",
    "3 肥胖\t>= 28.0"
   ]
  },
  {
   "cell_type": "code",
   "execution_count": 1,
   "metadata": {},
   "outputs": [],
   "source": [
    "import json"
   ]
  },
  {
   "cell_type": "code",
   "execution_count": 2,
   "metadata": {},
   "outputs": [],
   "source": [
    "f = open('./output/output_men_cm_kg_bmi.json','r')\n",
    "info = json.load(f)"
   ]
  },
  {
   "cell_type": "code",
   "execution_count": 3,
   "metadata": {},
   "outputs": [],
   "source": [
    "new_info = {}\n",
    "for i in info:\n",
    "    new_i = {'bmi':i['bmi']}\n",
    "    if float(i['bmi']) <= 18.4:\n",
    "        new_i['label'] = 0\n",
    "    elif float(i['bmi']) <= 23.9:\n",
    "        new_i['label'] = 1\n",
    "    elif float(i['bmi']) <= 27.9:\n",
    "        new_i['label'] = 2\n",
    "    else:\n",
    "        new_i['label'] = 3\n",
    "    new_info[i['im_id']] = new_i"
   ]
  },
  {
   "cell_type": "code",
   "execution_count": 4,
   "metadata": {},
   "outputs": [
    {
     "data": {
      "text/plain": [
       "24168"
      ]
     },
     "execution_count": 4,
     "metadata": {},
     "output_type": "execute_result"
    }
   ],
   "source": [
    "f = open('./output/men_label_four_class.json','w')\n",
    "f.write(json.dumps(new_info,indent=2))"
   ]
  },
  {
   "cell_type": "markdown",
   "metadata": {},
   "source": [
    "# where have image"
   ]
  },
  {
   "cell_type": "code",
   "execution_count": 2,
   "metadata": {},
   "outputs": [],
   "source": [
    "import json\n",
    "f = open('./output/output_women_ori.json')\n",
    "info = json.load(f)"
   ]
  },
  {
   "cell_type": "code",
   "execution_count": 3,
   "metadata": {},
   "outputs": [],
   "source": [
    "json_names = []\n",
    "for i in info:\n",
    "    if i['im_id'] not in json_names:\n",
    "        json_names.append(i['im_id'])"
   ]
  },
  {
   "cell_type": "code",
   "execution_count": 4,
   "metadata": {},
   "outputs": [],
   "source": [
    "import os\n",
    "names = os.listdir('./output/image_women/')"
   ]
  },
  {
   "cell_type": "code",
   "execution_count": 5,
   "metadata": {},
   "outputs": [
    {
     "name": "stdout",
     "output_type": "stream",
     "text": [
      "30000-30803-1.png\n",
      "38000-38163-3.jpg\n",
      "39000-39757-1.png\n",
      "39000-39842-5.png\n",
      "39000-39943-1.png\n",
      "40000-40035-1.png\n",
      "40000-40382-1.png\n",
      "40000-40490-1.png\n",
      "40000-40538-1.png\n",
      "40000-40545-1.png\n",
      "40000-40654-1.png\n",
      "40000-40897-1.png\n"
     ]
    }
   ],
   "source": [
    "for name in json_names:\n",
    "    if name not in names:\n",
    "        print(name)"
   ]
  },
  {
   "cell_type": "code",
   "execution_count": 6,
   "metadata": {},
   "outputs": [],
   "source": [
    "for name in names:\n",
    "    if name not in json_names:\n",
    "        print(name)"
   ]
  },
  {
   "cell_type": "code",
   "execution_count": 8,
   "metadata": {},
   "outputs": [
    {
     "name": "stdout",
     "output_type": "stream",
     "text": [
      "15695 15707 15707\n"
     ]
    }
   ],
   "source": [
    "print(len(names),len(json_names),len(info))"
   ]
  },
  {
   "cell_type": "code",
   "execution_count": null,
   "metadata": {},
   "outputs": [],
   "source": []
  }
 ],
 "metadata": {
  "kernelspec": {
   "display_name": "Python 3",
   "language": "python",
   "name": "python3"
  },
  "language_info": {
   "codemirror_mode": {
    "name": "ipython",
    "version": 3
   },
   "file_extension": ".py",
   "mimetype": "text/x-python",
   "name": "python",
   "nbconvert_exporter": "python",
   "pygments_lexer": "ipython3",
   "version": "3.6.5"
  }
 },
 "nbformat": 4,
 "nbformat_minor": 2
}
